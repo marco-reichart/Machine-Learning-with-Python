{
  "nbformat": 4,
  "nbformat_minor": 0,
  "metadata": {
    "colab": {
      "name": "fcc_predict_health_costs_with_regression.ipynb",
      "provenance": [],
      "collapsed_sections": []
    },
    "kernelspec": {
      "display_name": "Python 3",
      "name": "python3"
    },
    "accelerator": "GPU"
  },
  "cells": [
    {
      "cell_type": "markdown",
      "metadata": {
        "id": "M9TX15KOkPBV"
      },
      "source": [
        "*Note: You are currently reading this using Google Colaboratory which is a cloud-hosted version of Jupyter Notebook. This is a document containing both text cells for documentation and runnable code cells. If you are unfamiliar with Jupyter Notebook, watch this 3-minute introduction before starting this challenge: https://www.youtube.com/watch?v=inN8seMm7UI*\n",
        "\n",
        "---\n",
        "\n",
        "In this challenge, you will predict healthcare costs using a regression algorithm.\n",
        "\n",
        "You are given a dataset that contains information about different people including their healthcare costs. Use the data to predict healthcare costs based on new data.\n",
        "\n",
        "The first two cells of this notebook import libraries and the data.\n",
        "\n",
        "Make sure to convert categorical data to numbers. Use 80% of the data as the `train_dataset` and 20% of the data as the `test_dataset`.\n",
        "\n",
        "`pop` off the \"expenses\" column from these datasets to create new datasets called `train_labels` and `test_labels`. Use these labels when training your model.\n",
        "\n",
        "Create a model and train it with the `train_dataset`. Run the final cell in this notebook to check your model. The final cell will use the unseen `test_dataset` to check how well the model generalizes.\n",
        "\n",
        "To pass the challenge, `model.evaluate` must return a Mean Absolute Error of under 3500. This means it predicts health care costs correctly within $3500.\n",
        "\n",
        "The final cell will also predict expenses using the `test_dataset` and graph the results."
      ]
    },
    {
      "cell_type": "code",
      "metadata": {
        "id": "1rRo8oNqZ-Rj",
        "colab": {
          "base_uri": "https://localhost:8080/"
        },
        "outputId": "5203b9e2-fa9e-4133-a117-176b9698b4fb"
      },
      "source": [
        "# Import libraries. You may or may not use all of these.\n",
        "!pip install -q git+https://github.com/tensorflow/docs\n",
        "import matplotlib.pyplot as plt\n",
        "import numpy as np\n",
        "import pandas as pd\n",
        "\n",
        "try:\n",
        "  # %tensorflow_version only exists in Colab.\n",
        "  %tensorflow_version 2.x\n",
        "except Exception:\n",
        "  pass\n",
        "import tensorflow as tf\n",
        "\n",
        "from tensorflow import keras\n",
        "from tensorflow.keras import layers\n",
        "\n",
        "import tensorflow_docs as tfdocs\n",
        "import tensorflow_docs.plots\n",
        "import tensorflow_docs.modeling"
      ],
      "execution_count": null,
      "outputs": [
        {
          "output_type": "stream",
          "name": "stdout",
          "text": [
            "  Building wheel for tensorflow-docs (setup.py) ... \u001b[?25l\u001b[?25hdone\n"
          ]
        }
      ]
    },
    {
      "cell_type": "code",
      "metadata": {
        "id": "CiX2FI4gZtTt",
        "colab": {
          "base_uri": "https://localhost:8080/",
          "height": 397
        },
        "outputId": "5ca304bc-3d52-4627-a7a5-c12aae3d9877"
      },
      "source": [
        "# Import data\n",
        "!wget https://cdn.freecodecamp.org/project-data/health-costs/insurance.csv\n",
        "dataset = pd.read_csv('insurance.csv')\n",
        "dataset.tail()"
      ],
      "execution_count": null,
      "outputs": [
        {
          "output_type": "stream",
          "name": "stdout",
          "text": [
            "--2022-01-13 16:21:01--  https://cdn.freecodecamp.org/project-data/health-costs/insurance.csv\n",
            "Resolving cdn.freecodecamp.org (cdn.freecodecamp.org)... 104.26.3.33, 104.26.2.33, 172.67.70.149, ...\n",
            "Connecting to cdn.freecodecamp.org (cdn.freecodecamp.org)|104.26.3.33|:443... connected.\n",
            "HTTP request sent, awaiting response... 200 OK\n",
            "Length: 50264 (49K) [text/csv]\n",
            "Saving to: ‘insurance.csv’\n",
            "\n",
            "insurance.csv       100%[===================>]  49.09K  --.-KB/s    in 0.001s  \n",
            "\n",
            "2022-01-13 16:21:02 (87.9 MB/s) - ‘insurance.csv’ saved [50264/50264]\n",
            "\n"
          ]
        },
        {
          "output_type": "execute_result",
          "data": {
            "text/html": [
              "\n",
              "  <div id=\"df-ed48e23c-b760-4c41-ba7a-5140db16df4a\">\n",
              "    <div class=\"colab-df-container\">\n",
              "      <div>\n",
              "<style scoped>\n",
              "    .dataframe tbody tr th:only-of-type {\n",
              "        vertical-align: middle;\n",
              "    }\n",
              "\n",
              "    .dataframe tbody tr th {\n",
              "        vertical-align: top;\n",
              "    }\n",
              "\n",
              "    .dataframe thead th {\n",
              "        text-align: right;\n",
              "    }\n",
              "</style>\n",
              "<table border=\"1\" class=\"dataframe\">\n",
              "  <thead>\n",
              "    <tr style=\"text-align: right;\">\n",
              "      <th></th>\n",
              "      <th>age</th>\n",
              "      <th>sex</th>\n",
              "      <th>bmi</th>\n",
              "      <th>children</th>\n",
              "      <th>smoker</th>\n",
              "      <th>region</th>\n",
              "      <th>expenses</th>\n",
              "    </tr>\n",
              "  </thead>\n",
              "  <tbody>\n",
              "    <tr>\n",
              "      <th>1333</th>\n",
              "      <td>50</td>\n",
              "      <td>male</td>\n",
              "      <td>31.0</td>\n",
              "      <td>3</td>\n",
              "      <td>no</td>\n",
              "      <td>northwest</td>\n",
              "      <td>10600.55</td>\n",
              "    </tr>\n",
              "    <tr>\n",
              "      <th>1334</th>\n",
              "      <td>18</td>\n",
              "      <td>female</td>\n",
              "      <td>31.9</td>\n",
              "      <td>0</td>\n",
              "      <td>no</td>\n",
              "      <td>northeast</td>\n",
              "      <td>2205.98</td>\n",
              "    </tr>\n",
              "    <tr>\n",
              "      <th>1335</th>\n",
              "      <td>18</td>\n",
              "      <td>female</td>\n",
              "      <td>36.9</td>\n",
              "      <td>0</td>\n",
              "      <td>no</td>\n",
              "      <td>southeast</td>\n",
              "      <td>1629.83</td>\n",
              "    </tr>\n",
              "    <tr>\n",
              "      <th>1336</th>\n",
              "      <td>21</td>\n",
              "      <td>female</td>\n",
              "      <td>25.8</td>\n",
              "      <td>0</td>\n",
              "      <td>no</td>\n",
              "      <td>southwest</td>\n",
              "      <td>2007.95</td>\n",
              "    </tr>\n",
              "    <tr>\n",
              "      <th>1337</th>\n",
              "      <td>61</td>\n",
              "      <td>female</td>\n",
              "      <td>29.1</td>\n",
              "      <td>0</td>\n",
              "      <td>yes</td>\n",
              "      <td>northwest</td>\n",
              "      <td>29141.36</td>\n",
              "    </tr>\n",
              "  </tbody>\n",
              "</table>\n",
              "</div>\n",
              "      <button class=\"colab-df-convert\" onclick=\"convertToInteractive('df-ed48e23c-b760-4c41-ba7a-5140db16df4a')\"\n",
              "              title=\"Convert this dataframe to an interactive table.\"\n",
              "              style=\"display:none;\">\n",
              "        \n",
              "  <svg xmlns=\"http://www.w3.org/2000/svg\" height=\"24px\"viewBox=\"0 0 24 24\"\n",
              "       width=\"24px\">\n",
              "    <path d=\"M0 0h24v24H0V0z\" fill=\"none\"/>\n",
              "    <path d=\"M18.56 5.44l.94 2.06.94-2.06 2.06-.94-2.06-.94-.94-2.06-.94 2.06-2.06.94zm-11 1L8.5 8.5l.94-2.06 2.06-.94-2.06-.94L8.5 2.5l-.94 2.06-2.06.94zm10 10l.94 2.06.94-2.06 2.06-.94-2.06-.94-.94-2.06-.94 2.06-2.06.94z\"/><path d=\"M17.41 7.96l-1.37-1.37c-.4-.4-.92-.59-1.43-.59-.52 0-1.04.2-1.43.59L10.3 9.45l-7.72 7.72c-.78.78-.78 2.05 0 2.83L4 21.41c.39.39.9.59 1.41.59.51 0 1.02-.2 1.41-.59l7.78-7.78 2.81-2.81c.8-.78.8-2.07 0-2.86zM5.41 20L4 18.59l7.72-7.72 1.47 1.35L5.41 20z\"/>\n",
              "  </svg>\n",
              "      </button>\n",
              "      \n",
              "  <style>\n",
              "    .colab-df-container {\n",
              "      display:flex;\n",
              "      flex-wrap:wrap;\n",
              "      gap: 12px;\n",
              "    }\n",
              "\n",
              "    .colab-df-convert {\n",
              "      background-color: #E8F0FE;\n",
              "      border: none;\n",
              "      border-radius: 50%;\n",
              "      cursor: pointer;\n",
              "      display: none;\n",
              "      fill: #1967D2;\n",
              "      height: 32px;\n",
              "      padding: 0 0 0 0;\n",
              "      width: 32px;\n",
              "    }\n",
              "\n",
              "    .colab-df-convert:hover {\n",
              "      background-color: #E2EBFA;\n",
              "      box-shadow: 0px 1px 2px rgba(60, 64, 67, 0.3), 0px 1px 3px 1px rgba(60, 64, 67, 0.15);\n",
              "      fill: #174EA6;\n",
              "    }\n",
              "\n",
              "    [theme=dark] .colab-df-convert {\n",
              "      background-color: #3B4455;\n",
              "      fill: #D2E3FC;\n",
              "    }\n",
              "\n",
              "    [theme=dark] .colab-df-convert:hover {\n",
              "      background-color: #434B5C;\n",
              "      box-shadow: 0px 1px 3px 1px rgba(0, 0, 0, 0.15);\n",
              "      filter: drop-shadow(0px 1px 2px rgba(0, 0, 0, 0.3));\n",
              "      fill: #FFFFFF;\n",
              "    }\n",
              "  </style>\n",
              "\n",
              "      <script>\n",
              "        const buttonEl =\n",
              "          document.querySelector('#df-ed48e23c-b760-4c41-ba7a-5140db16df4a button.colab-df-convert');\n",
              "        buttonEl.style.display =\n",
              "          google.colab.kernel.accessAllowed ? 'block' : 'none';\n",
              "\n",
              "        async function convertToInteractive(key) {\n",
              "          const element = document.querySelector('#df-ed48e23c-b760-4c41-ba7a-5140db16df4a');\n",
              "          const dataTable =\n",
              "            await google.colab.kernel.invokeFunction('convertToInteractive',\n",
              "                                                     [key], {});\n",
              "          if (!dataTable) return;\n",
              "\n",
              "          const docLinkHtml = 'Like what you see? Visit the ' +\n",
              "            '<a target=\"_blank\" href=https://colab.research.google.com/notebooks/data_table.ipynb>data table notebook</a>'\n",
              "            + ' to learn more about interactive tables.';\n",
              "          element.innerHTML = '';\n",
              "          dataTable['output_type'] = 'display_data';\n",
              "          await google.colab.output.renderOutput(dataTable, element);\n",
              "          const docLink = document.createElement('div');\n",
              "          docLink.innerHTML = docLinkHtml;\n",
              "          element.appendChild(docLink);\n",
              "        }\n",
              "      </script>\n",
              "    </div>\n",
              "  </div>\n",
              "  "
            ],
            "text/plain": [
              "      age     sex   bmi  children smoker     region  expenses\n",
              "1333   50    male  31.0         3     no  northwest  10600.55\n",
              "1334   18  female  31.9         0     no  northeast   2205.98\n",
              "1335   18  female  36.9         0     no  southeast   1629.83\n",
              "1336   21  female  25.8         0     no  southwest   2007.95\n",
              "1337   61  female  29.1         0    yes  northwest  29141.36"
            ]
          },
          "metadata": {},
          "execution_count": 2
        }
      ]
    },
    {
      "cell_type": "markdown",
      "source": [
        "Convert categorical columns into numeric:"
      ],
      "metadata": {
        "id": "20WOQC8_PV83"
      }
    },
    {
      "cell_type": "code",
      "source": [
        "CATEGORICAL_COLUMNS = ['sex', 'smoker', 'region']\n",
        "\n",
        "for column in CATEGORICAL_COLUMNS:\n",
        "  dataset[column] = dataset[column].astype('category').cat.codes"
      ],
      "metadata": {
        "id": "UA04Ano9JxJp"
      },
      "execution_count": null,
      "outputs": []
    },
    {
      "cell_type": "markdown",
      "source": [
        "Split the dataset into training and test data. Additionally the training and test labels for the model are created."
      ],
      "metadata": {
        "id": "jTU2TaEBPlKz"
      }
    },
    {
      "cell_type": "code",
      "source": [
        "train_dataset = dataset.sample(frac=0.8)\n",
        "test_dataset = dataset.drop(train_dataset.index)\n",
        "\n",
        "train_labels = train_dataset.pop('expenses')\n",
        "test_labels = test_dataset.pop('expenses')"
      ],
      "metadata": {
        "id": "fF7ToLT-J0R4"
      },
      "execution_count": null,
      "outputs": []
    },
    {
      "cell_type": "markdown",
      "source": [
        "In the next step we take a look at the different ranges for each feature:"
      ],
      "metadata": {
        "id": "2ibxthq0PtVB"
      }
    },
    {
      "cell_type": "code",
      "source": [
        "train_dataset.describe().transpose()[['mean', 'std']]"
      ],
      "metadata": {
        "colab": {
          "base_uri": "https://localhost:8080/",
          "height": 238
        },
        "id": "2dtq77ZFMrjR",
        "outputId": "58e7b439-96d5-460d-a5b3-2566a328b32f"
      },
      "execution_count": null,
      "outputs": [
        {
          "output_type": "execute_result",
          "data": {
            "text/html": [
              "\n",
              "  <div id=\"df-fc8c6984-5883-4d21-be82-4ba99469ebf2\">\n",
              "    <div class=\"colab-df-container\">\n",
              "      <div>\n",
              "<style scoped>\n",
              "    .dataframe tbody tr th:only-of-type {\n",
              "        vertical-align: middle;\n",
              "    }\n",
              "\n",
              "    .dataframe tbody tr th {\n",
              "        vertical-align: top;\n",
              "    }\n",
              "\n",
              "    .dataframe thead th {\n",
              "        text-align: right;\n",
              "    }\n",
              "</style>\n",
              "<table border=\"1\" class=\"dataframe\">\n",
              "  <thead>\n",
              "    <tr style=\"text-align: right;\">\n",
              "      <th></th>\n",
              "      <th>mean</th>\n",
              "      <th>std</th>\n",
              "    </tr>\n",
              "  </thead>\n",
              "  <tbody>\n",
              "    <tr>\n",
              "      <th>age</th>\n",
              "      <td>39.045794</td>\n",
              "      <td>14.017587</td>\n",
              "    </tr>\n",
              "    <tr>\n",
              "      <th>sex</th>\n",
              "      <td>0.514019</td>\n",
              "      <td>0.500037</td>\n",
              "    </tr>\n",
              "    <tr>\n",
              "      <th>bmi</th>\n",
              "      <td>30.752430</td>\n",
              "      <td>6.118131</td>\n",
              "    </tr>\n",
              "    <tr>\n",
              "      <th>children</th>\n",
              "      <td>1.103738</td>\n",
              "      <td>1.199269</td>\n",
              "    </tr>\n",
              "    <tr>\n",
              "      <th>smoker</th>\n",
              "      <td>0.207477</td>\n",
              "      <td>0.405689</td>\n",
              "    </tr>\n",
              "    <tr>\n",
              "      <th>region</th>\n",
              "      <td>1.490654</td>\n",
              "      <td>1.095704</td>\n",
              "    </tr>\n",
              "  </tbody>\n",
              "</table>\n",
              "</div>\n",
              "      <button class=\"colab-df-convert\" onclick=\"convertToInteractive('df-fc8c6984-5883-4d21-be82-4ba99469ebf2')\"\n",
              "              title=\"Convert this dataframe to an interactive table.\"\n",
              "              style=\"display:none;\">\n",
              "        \n",
              "  <svg xmlns=\"http://www.w3.org/2000/svg\" height=\"24px\"viewBox=\"0 0 24 24\"\n",
              "       width=\"24px\">\n",
              "    <path d=\"M0 0h24v24H0V0z\" fill=\"none\"/>\n",
              "    <path d=\"M18.56 5.44l.94 2.06.94-2.06 2.06-.94-2.06-.94-.94-2.06-.94 2.06-2.06.94zm-11 1L8.5 8.5l.94-2.06 2.06-.94-2.06-.94L8.5 2.5l-.94 2.06-2.06.94zm10 10l.94 2.06.94-2.06 2.06-.94-2.06-.94-.94-2.06-.94 2.06-2.06.94z\"/><path d=\"M17.41 7.96l-1.37-1.37c-.4-.4-.92-.59-1.43-.59-.52 0-1.04.2-1.43.59L10.3 9.45l-7.72 7.72c-.78.78-.78 2.05 0 2.83L4 21.41c.39.39.9.59 1.41.59.51 0 1.02-.2 1.41-.59l7.78-7.78 2.81-2.81c.8-.78.8-2.07 0-2.86zM5.41 20L4 18.59l7.72-7.72 1.47 1.35L5.41 20z\"/>\n",
              "  </svg>\n",
              "      </button>\n",
              "      \n",
              "  <style>\n",
              "    .colab-df-container {\n",
              "      display:flex;\n",
              "      flex-wrap:wrap;\n",
              "      gap: 12px;\n",
              "    }\n",
              "\n",
              "    .colab-df-convert {\n",
              "      background-color: #E8F0FE;\n",
              "      border: none;\n",
              "      border-radius: 50%;\n",
              "      cursor: pointer;\n",
              "      display: none;\n",
              "      fill: #1967D2;\n",
              "      height: 32px;\n",
              "      padding: 0 0 0 0;\n",
              "      width: 32px;\n",
              "    }\n",
              "\n",
              "    .colab-df-convert:hover {\n",
              "      background-color: #E2EBFA;\n",
              "      box-shadow: 0px 1px 2px rgba(60, 64, 67, 0.3), 0px 1px 3px 1px rgba(60, 64, 67, 0.15);\n",
              "      fill: #174EA6;\n",
              "    }\n",
              "\n",
              "    [theme=dark] .colab-df-convert {\n",
              "      background-color: #3B4455;\n",
              "      fill: #D2E3FC;\n",
              "    }\n",
              "\n",
              "    [theme=dark] .colab-df-convert:hover {\n",
              "      background-color: #434B5C;\n",
              "      box-shadow: 0px 1px 3px 1px rgba(0, 0, 0, 0.15);\n",
              "      filter: drop-shadow(0px 1px 2px rgba(0, 0, 0, 0.3));\n",
              "      fill: #FFFFFF;\n",
              "    }\n",
              "  </style>\n",
              "\n",
              "      <script>\n",
              "        const buttonEl =\n",
              "          document.querySelector('#df-fc8c6984-5883-4d21-be82-4ba99469ebf2 button.colab-df-convert');\n",
              "        buttonEl.style.display =\n",
              "          google.colab.kernel.accessAllowed ? 'block' : 'none';\n",
              "\n",
              "        async function convertToInteractive(key) {\n",
              "          const element = document.querySelector('#df-fc8c6984-5883-4d21-be82-4ba99469ebf2');\n",
              "          const dataTable =\n",
              "            await google.colab.kernel.invokeFunction('convertToInteractive',\n",
              "                                                     [key], {});\n",
              "          if (!dataTable) return;\n",
              "\n",
              "          const docLinkHtml = 'Like what you see? Visit the ' +\n",
              "            '<a target=\"_blank\" href=https://colab.research.google.com/notebooks/data_table.ipynb>data table notebook</a>'\n",
              "            + ' to learn more about interactive tables.';\n",
              "          element.innerHTML = '';\n",
              "          dataTable['output_type'] = 'display_data';\n",
              "          await google.colab.output.renderOutput(dataTable, element);\n",
              "          const docLink = document.createElement('div');\n",
              "          docLink.innerHTML = docLinkHtml;\n",
              "          element.appendChild(docLink);\n",
              "        }\n",
              "      </script>\n",
              "    </div>\n",
              "  </div>\n",
              "  "
            ],
            "text/plain": [
              "               mean        std\n",
              "age       39.045794  14.017587\n",
              "sex        0.514019   0.500037\n",
              "bmi       30.752430   6.118131\n",
              "children   1.103738   1.199269\n",
              "smoker     0.207477   0.405689\n",
              "region     1.490654   1.095704"
            ]
          },
          "metadata": {},
          "execution_count": 12
        }
      ]
    },
    {
      "cell_type": "markdown",
      "source": [
        "In the table of statistics it's easy to see how different the ranges of each feature are. Because of that we normalize each feature to get rid of this problem."
      ],
      "metadata": {
        "id": "aLel8liuQA6Q"
      }
    },
    {
      "cell_type": "code",
      "source": [
        "normalizer = layers.experimental.preprocessing.Normalization(axis=-1)\n",
        "normalizer.adapt(np.array(train_dataset))"
      ],
      "metadata": {
        "id": "9TM5avONMrlg"
      },
      "execution_count": null,
      "outputs": []
    },
    {
      "cell_type": "markdown",
      "source": [
        "Now we build the model with the created layer for normalization:"
      ],
      "metadata": {
        "id": "ahWAIzn8QM0x"
      }
    },
    {
      "cell_type": "code",
      "source": [
        "model = tf.keras.Sequential([\n",
        "    normalizer,\n",
        "    layers.Dense(2),\n",
        "    layers.Dense(1)\n",
        "])\n",
        "\n",
        "model.summary()"
      ],
      "metadata": {
        "colab": {
          "base_uri": "https://localhost:8080/"
        },
        "id": "oMgeW2d8N_vr",
        "outputId": "4fedc915-c185-4bfb-ccd1-830cb596cfa1"
      },
      "execution_count": null,
      "outputs": [
        {
          "output_type": "stream",
          "name": "stdout",
          "text": [
            "Model: \"sequential_1\"\n",
            "_________________________________________________________________\n",
            " Layer (type)                Output Shape              Param #   \n",
            "=================================================================\n",
            " normalization_1 (Normalizat  (None, 6)                13        \n",
            " ion)                                                            \n",
            "                                                                 \n",
            " dense_2 (Dense)             (None, 2)                 14        \n",
            "                                                                 \n",
            " dense_3 (Dense)             (None, 1)                 3         \n",
            "                                                                 \n",
            "=================================================================\n",
            "Total params: 30\n",
            "Trainable params: 17\n",
            "Non-trainable params: 13\n",
            "_________________________________________________________________\n"
          ]
        }
      ]
    },
    {
      "cell_type": "markdown",
      "source": [
        "Once the model is built, we configure the training procedure using the Keras Model.compile method. For loss we use the Mean Squared Error since we want to optimize this metric."
      ],
      "metadata": {
        "id": "KfFpF4n9QgDB"
      }
    },
    {
      "cell_type": "code",
      "source": [
        "model.compile(optimizer=keras.optimizers.Adam(learning_rate=0.1),\n",
        "              loss='mae',\n",
        "              metrics=['mae', 'mse'])"
      ],
      "metadata": {
        "id": "ka81RvGCOO0h"
      },
      "execution_count": null,
      "outputs": []
    },
    {
      "cell_type": "markdown",
      "source": [
        "Now we train the model with the training data:"
      ],
      "metadata": {
        "id": "3_ZatvF1Qluf"
      }
    },
    {
      "cell_type": "code",
      "source": [
        "model.fit(train_dataset, train_labels, epochs=100) "
      ],
      "metadata": {
        "colab": {
          "base_uri": "https://localhost:8080/"
        },
        "id": "DMGUasJaOlJb",
        "outputId": "84c741b9-54d0-47f2-c1a0-a21f0918a2a2"
      },
      "execution_count": null,
      "outputs": [
        {
          "output_type": "stream",
          "name": "stdout",
          "text": [
            "Epoch 1/100\n",
            "34/34 [==============================] - 1s 5ms/step - loss: 13421.6455 - mae: 13421.6455 - mse: 329805888.0000\n",
            "Epoch 2/100\n",
            "34/34 [==============================] - 0s 3ms/step - loss: 13348.8115 - mae: 13348.8115 - mse: 327879200.0000\n",
            "Epoch 3/100\n",
            "34/34 [==============================] - 0s 3ms/step - loss: 13165.9863 - mae: 13165.9863 - mse: 323131616.0000\n",
            "Epoch 4/100\n",
            "34/34 [==============================] - 0s 3ms/step - loss: 12855.7988 - mae: 12855.7988 - mse: 314861920.0000\n",
            "Epoch 5/100\n",
            "34/34 [==============================] - 0s 2ms/step - loss: 12414.3076 - mae: 12414.3076 - mse: 304095808.0000\n",
            "Epoch 6/100\n",
            "34/34 [==============================] - 0s 2ms/step - loss: 11856.6270 - mae: 11856.6270 - mse: 289875104.0000\n",
            "Epoch 7/100\n",
            "34/34 [==============================] - 0s 2ms/step - loss: 11190.6045 - mae: 11190.6045 - mse: 271802336.0000\n",
            "Epoch 8/100\n",
            "34/34 [==============================] - 0s 2ms/step - loss: 10398.5479 - mae: 10398.5479 - mse: 249807168.0000\n",
            "Epoch 9/100\n",
            "34/34 [==============================] - 0s 2ms/step - loss: 9476.0146 - mae: 9476.0146 - mse: 226329872.0000\n",
            "Epoch 10/100\n",
            "34/34 [==============================] - 0s 2ms/step - loss: 8451.1855 - mae: 8451.1855 - mse: 200942048.0000\n",
            "Epoch 11/100\n",
            "34/34 [==============================] - 0s 2ms/step - loss: 7351.0483 - mae: 7351.0483 - mse: 174873120.0000\n",
            "Epoch 12/100\n",
            "34/34 [==============================] - 0s 2ms/step - loss: 6320.6494 - mae: 6320.6494 - mse: 148856992.0000\n",
            "Epoch 13/100\n",
            "34/34 [==============================] - 0s 2ms/step - loss: 5572.9512 - mae: 5572.9512 - mse: 123844408.0000\n",
            "Epoch 14/100\n",
            "34/34 [==============================] - 0s 2ms/step - loss: 5003.7119 - mae: 5003.7119 - mse: 103699720.0000\n",
            "Epoch 15/100\n",
            "34/34 [==============================] - 0s 2ms/step - loss: 4481.4546 - mae: 4481.4546 - mse: 86155696.0000\n",
            "Epoch 16/100\n",
            "34/34 [==============================] - 0s 2ms/step - loss: 4100.9629 - mae: 4100.9629 - mse: 73810672.0000\n",
            "Epoch 17/100\n",
            "34/34 [==============================] - 0s 2ms/step - loss: 3911.7268 - mae: 3911.7268 - mse: 65650840.0000\n",
            "Epoch 18/100\n",
            "34/34 [==============================] - 0s 2ms/step - loss: 3860.2534 - mae: 3860.2534 - mse: 61037976.0000\n",
            "Epoch 19/100\n",
            "34/34 [==============================] - 0s 2ms/step - loss: 3835.7012 - mae: 3835.7012 - mse: 58678516.0000\n",
            "Epoch 20/100\n",
            "34/34 [==============================] - 0s 2ms/step - loss: 3820.2734 - mae: 3820.2734 - mse: 56744484.0000\n",
            "Epoch 21/100\n",
            "34/34 [==============================] - 0s 2ms/step - loss: 3803.0371 - mae: 3803.0371 - mse: 55280264.0000\n",
            "Epoch 22/100\n",
            "34/34 [==============================] - 0s 2ms/step - loss: 3788.8428 - mae: 3788.8428 - mse: 53245512.0000\n",
            "Epoch 23/100\n",
            "34/34 [==============================] - 0s 2ms/step - loss: 3773.9517 - mae: 3773.9517 - mse: 52009492.0000\n",
            "Epoch 24/100\n",
            "34/34 [==============================] - 0s 3ms/step - loss: 3756.6946 - mae: 3756.6946 - mse: 50619828.0000\n",
            "Epoch 25/100\n",
            "34/34 [==============================] - 0s 2ms/step - loss: 3736.6604 - mae: 3736.6604 - mse: 48960220.0000\n",
            "Epoch 26/100\n",
            "34/34 [==============================] - 0s 2ms/step - loss: 3718.1174 - mae: 3718.1174 - mse: 47608172.0000\n",
            "Epoch 27/100\n",
            "34/34 [==============================] - 0s 2ms/step - loss: 3696.9282 - mae: 3696.9282 - mse: 46278760.0000\n",
            "Epoch 28/100\n",
            "34/34 [==============================] - 0s 2ms/step - loss: 3675.9265 - mae: 3675.9265 - mse: 45296468.0000\n",
            "Epoch 29/100\n",
            "34/34 [==============================] - 0s 4ms/step - loss: 3657.6492 - mae: 3657.6492 - mse: 44483816.0000\n",
            "Epoch 30/100\n",
            "34/34 [==============================] - 0s 4ms/step - loss: 3638.7366 - mae: 3638.7366 - mse: 43782280.0000\n",
            "Epoch 31/100\n",
            "34/34 [==============================] - 0s 5ms/step - loss: 3623.3269 - mae: 3623.3269 - mse: 43521728.0000\n",
            "Epoch 32/100\n",
            "34/34 [==============================] - 0s 4ms/step - loss: 3601.8428 - mae: 3601.8428 - mse: 43035880.0000\n",
            "Epoch 33/100\n",
            "34/34 [==============================] - 0s 6ms/step - loss: 3584.3164 - mae: 3584.3164 - mse: 43016248.0000\n",
            "Epoch 34/100\n",
            "34/34 [==============================] - 0s 3ms/step - loss: 3569.6370 - mae: 3569.6370 - mse: 43067748.0000\n",
            "Epoch 35/100\n",
            "34/34 [==============================] - 0s 4ms/step - loss: 3557.1021 - mae: 3557.1021 - mse: 43071140.0000\n",
            "Epoch 36/100\n",
            "34/34 [==============================] - 0s 4ms/step - loss: 3541.3262 - mae: 3541.3262 - mse: 43293064.0000\n",
            "Epoch 37/100\n",
            "34/34 [==============================] - 0s 4ms/step - loss: 3525.5427 - mae: 3525.5427 - mse: 43854456.0000\n",
            "Epoch 38/100\n",
            "34/34 [==============================] - 0s 3ms/step - loss: 3515.5781 - mae: 3515.5781 - mse: 44354428.0000\n",
            "Epoch 39/100\n",
            "34/34 [==============================] - 0s 5ms/step - loss: 3501.2273 - mae: 3501.2273 - mse: 45142172.0000\n",
            "Epoch 40/100\n",
            "34/34 [==============================] - 0s 4ms/step - loss: 3488.2256 - mae: 3488.2256 - mse: 46106884.0000\n",
            "Epoch 41/100\n",
            "34/34 [==============================] - 0s 4ms/step - loss: 3474.3594 - mae: 3474.3594 - mse: 46964328.0000\n",
            "Epoch 42/100\n",
            "34/34 [==============================] - 0s 4ms/step - loss: 3461.9121 - mae: 3461.9121 - mse: 48114340.0000\n",
            "Epoch 43/100\n",
            "34/34 [==============================] - 0s 4ms/step - loss: 3453.0271 - mae: 3453.0271 - mse: 49635268.0000\n",
            "Epoch 44/100\n",
            "34/34 [==============================] - 0s 4ms/step - loss: 3453.2529 - mae: 3453.2529 - mse: 49598572.0000\n",
            "Epoch 45/100\n",
            "34/34 [==============================] - 0s 4ms/step - loss: 3450.9221 - mae: 3450.9221 - mse: 49783864.0000\n",
            "Epoch 46/100\n",
            "34/34 [==============================] - 0s 5ms/step - loss: 3453.5896 - mae: 3453.5896 - mse: 50037028.0000\n",
            "Epoch 47/100\n",
            "34/34 [==============================] - 0s 3ms/step - loss: 3451.6223 - mae: 3451.6223 - mse: 49498080.0000\n",
            "Epoch 48/100\n",
            "34/34 [==============================] - 0s 5ms/step - loss: 3450.7649 - mae: 3450.7649 - mse: 49697988.0000\n",
            "Epoch 49/100\n",
            "34/34 [==============================] - 0s 7ms/step - loss: 3450.7932 - mae: 3450.7932 - mse: 49644616.0000\n",
            "Epoch 50/100\n",
            "34/34 [==============================] - 0s 7ms/step - loss: 3455.5249 - mae: 3455.5249 - mse: 50162428.0000\n",
            "Epoch 51/100\n",
            "34/34 [==============================] - 0s 6ms/step - loss: 3449.4951 - mae: 3449.4951 - mse: 49774504.0000\n",
            "Epoch 52/100\n",
            "34/34 [==============================] - 0s 6ms/step - loss: 3451.1887 - mae: 3451.1887 - mse: 50116840.0000\n",
            "Epoch 53/100\n",
            "34/34 [==============================] - 0s 7ms/step - loss: 3451.9290 - mae: 3451.9290 - mse: 50057036.0000\n",
            "Epoch 54/100\n",
            "34/34 [==============================] - 0s 6ms/step - loss: 3456.4309 - mae: 3456.4309 - mse: 50140640.0000\n",
            "Epoch 55/100\n",
            "34/34 [==============================] - 0s 7ms/step - loss: 3457.0872 - mae: 3457.0872 - mse: 49418352.0000\n",
            "Epoch 56/100\n",
            "34/34 [==============================] - 0s 6ms/step - loss: 3452.3718 - mae: 3452.3718 - mse: 50096884.0000\n",
            "Epoch 57/100\n",
            "34/34 [==============================] - 0s 6ms/step - loss: 3454.5408 - mae: 3454.5408 - mse: 49191804.0000\n",
            "Epoch 58/100\n",
            "34/34 [==============================] - 0s 6ms/step - loss: 3452.7039 - mae: 3452.7039 - mse: 50109944.0000\n",
            "Epoch 59/100\n",
            "34/34 [==============================] - 0s 6ms/step - loss: 3451.5571 - mae: 3451.5571 - mse: 50283616.0000\n",
            "Epoch 60/100\n",
            "34/34 [==============================] - 0s 7ms/step - loss: 3449.2664 - mae: 3449.2664 - mse: 49866720.0000\n",
            "Epoch 61/100\n",
            "34/34 [==============================] - 0s 5ms/step - loss: 3452.6533 - mae: 3452.6533 - mse: 49375132.0000\n",
            "Epoch 62/100\n",
            "34/34 [==============================] - 0s 6ms/step - loss: 3452.1902 - mae: 3452.1902 - mse: 49630096.0000\n",
            "Epoch 63/100\n",
            "34/34 [==============================] - 0s 6ms/step - loss: 3452.0686 - mae: 3452.0686 - mse: 50118848.0000\n",
            "Epoch 64/100\n",
            "34/34 [==============================] - 0s 5ms/step - loss: 3450.1738 - mae: 3450.1738 - mse: 49644052.0000\n",
            "Epoch 65/100\n",
            "34/34 [==============================] - 0s 6ms/step - loss: 3452.0342 - mae: 3452.0342 - mse: 50158376.0000\n",
            "Epoch 66/100\n",
            "34/34 [==============================] - 0s 5ms/step - loss: 3450.6538 - mae: 3450.6538 - mse: 49947772.0000\n",
            "Epoch 67/100\n",
            "34/34 [==============================] - 0s 6ms/step - loss: 3448.7690 - mae: 3448.7690 - mse: 49677768.0000\n",
            "Epoch 68/100\n",
            "34/34 [==============================] - 0s 4ms/step - loss: 3453.1826 - mae: 3453.1826 - mse: 49983620.0000\n",
            "Epoch 69/100\n",
            "34/34 [==============================] - 0s 6ms/step - loss: 3452.6995 - mae: 3452.6995 - mse: 49799892.0000\n",
            "Epoch 70/100\n",
            "34/34 [==============================] - 0s 6ms/step - loss: 3451.2397 - mae: 3451.2397 - mse: 49900864.0000\n",
            "Epoch 71/100\n",
            "34/34 [==============================] - 0s 5ms/step - loss: 3450.4744 - mae: 3450.4744 - mse: 49861908.0000\n",
            "Epoch 72/100\n",
            "34/34 [==============================] - 0s 6ms/step - loss: 3450.9204 - mae: 3450.9204 - mse: 49885788.0000\n",
            "Epoch 73/100\n",
            "34/34 [==============================] - 0s 3ms/step - loss: 3448.7817 - mae: 3448.7817 - mse: 49619340.0000\n",
            "Epoch 74/100\n",
            "34/34 [==============================] - 0s 2ms/step - loss: 3450.3887 - mae: 3450.3887 - mse: 49987628.0000\n",
            "Epoch 75/100\n",
            "34/34 [==============================] - 0s 2ms/step - loss: 3451.9392 - mae: 3451.9392 - mse: 49811144.0000\n",
            "Epoch 76/100\n",
            "34/34 [==============================] - 0s 2ms/step - loss: 3450.6777 - mae: 3450.6777 - mse: 50016180.0000\n",
            "Epoch 77/100\n",
            "34/34 [==============================] - 0s 2ms/step - loss: 3455.4485 - mae: 3455.4485 - mse: 49215172.0000\n",
            "Epoch 78/100\n",
            "34/34 [==============================] - 0s 2ms/step - loss: 3450.8774 - mae: 3450.8774 - mse: 49933684.0000\n",
            "Epoch 79/100\n",
            "34/34 [==============================] - 0s 3ms/step - loss: 3453.1252 - mae: 3453.1252 - mse: 50221228.0000\n",
            "Epoch 80/100\n",
            "34/34 [==============================] - 0s 3ms/step - loss: 3449.5376 - mae: 3449.5376 - mse: 49670108.0000\n",
            "Epoch 81/100\n",
            "34/34 [==============================] - 0s 2ms/step - loss: 3451.1448 - mae: 3451.1448 - mse: 49678912.0000\n",
            "Epoch 82/100\n",
            "34/34 [==============================] - 0s 2ms/step - loss: 3453.6277 - mae: 3453.6277 - mse: 50037528.0000\n",
            "Epoch 83/100\n",
            "34/34 [==============================] - 0s 2ms/step - loss: 3452.3647 - mae: 3452.3647 - mse: 49767472.0000\n",
            "Epoch 84/100\n",
            "34/34 [==============================] - 0s 5ms/step - loss: 3451.8550 - mae: 3451.8550 - mse: 49692716.0000\n",
            "Epoch 85/100\n",
            "34/34 [==============================] - 0s 3ms/step - loss: 3450.1182 - mae: 3450.1182 - mse: 50055648.0000\n",
            "Epoch 86/100\n",
            "34/34 [==============================] - 0s 4ms/step - loss: 3450.6519 - mae: 3450.6519 - mse: 49754576.0000\n",
            "Epoch 87/100\n",
            "34/34 [==============================] - 0s 4ms/step - loss: 3453.0215 - mae: 3453.0215 - mse: 49580032.0000\n",
            "Epoch 88/100\n",
            "34/34 [==============================] - 0s 6ms/step - loss: 3451.0161 - mae: 3451.0161 - mse: 49734700.0000\n",
            "Epoch 89/100\n",
            "34/34 [==============================] - 0s 5ms/step - loss: 3449.9858 - mae: 3449.9858 - mse: 49845304.0000\n",
            "Epoch 90/100\n",
            "34/34 [==============================] - 0s 4ms/step - loss: 3451.8994 - mae: 3451.8994 - mse: 49981524.0000\n",
            "Epoch 91/100\n",
            "34/34 [==============================] - 0s 5ms/step - loss: 3450.5793 - mae: 3450.5793 - mse: 50000540.0000\n",
            "Epoch 92/100\n",
            "34/34 [==============================] - 0s 6ms/step - loss: 3450.4617 - mae: 3450.4617 - mse: 49945360.0000\n",
            "Epoch 93/100\n",
            "34/34 [==============================] - 0s 7ms/step - loss: 3449.6584 - mae: 3449.6584 - mse: 49681508.0000\n",
            "Epoch 94/100\n",
            "34/34 [==============================] - 0s 4ms/step - loss: 3449.5818 - mae: 3449.5818 - mse: 49961224.0000\n",
            "Epoch 95/100\n",
            "34/34 [==============================] - 0s 6ms/step - loss: 3453.8074 - mae: 3453.8074 - mse: 49716868.0000\n",
            "Epoch 96/100\n",
            "34/34 [==============================] - 0s 5ms/step - loss: 3454.7144 - mae: 3454.7144 - mse: 49999864.0000\n",
            "Epoch 97/100\n",
            "34/34 [==============================] - 0s 4ms/step - loss: 3449.7925 - mae: 3449.7925 - mse: 50209080.0000\n",
            "Epoch 98/100\n",
            "34/34 [==============================] - 0s 4ms/step - loss: 3450.1658 - mae: 3450.1658 - mse: 50106968.0000\n",
            "Epoch 99/100\n",
            "34/34 [==============================] - 0s 7ms/step - loss: 3451.3391 - mae: 3451.3391 - mse: 49665008.0000\n",
            "Epoch 100/100\n",
            "34/34 [==============================] - 0s 7ms/step - loss: 3450.5476 - mae: 3450.5476 - mse: 49816364.0000\n"
          ]
        },
        {
          "output_type": "execute_result",
          "data": {
            "text/plain": [
              "<keras.callbacks.History at 0x7efd59fa9e50>"
            ]
          },
          "metadata": {},
          "execution_count": 16
        }
      ]
    },
    {
      "cell_type": "code",
      "metadata": {
        "id": "Xe7RXH3N3CWU",
        "colab": {
          "base_uri": "https://localhost:8080/",
          "height": 335
        },
        "outputId": "bd1ecaf6-849a-47ec-b922-4cc2490d373b"
      },
      "source": [
        "# RUN THIS CELL TO TEST YOUR MODEL. DO NOT MODIFY CONTENTS.\n",
        "# Test model by checking how well the model generalizes using the test set.\n",
        "loss, mae, mse = model.evaluate(test_dataset, test_labels, verbose=2)\n",
        "\n",
        "print(\"Testing set Mean Abs Error: {:5.2f} expenses\".format(mae))\n",
        "\n",
        "if mae < 3500:\n",
        "  print(\"You passed the challenge. Great job!\")\n",
        "else:\n",
        "  print(\"The Mean Abs Error must be less than 3500. Keep trying.\")\n",
        "\n",
        "# Plot predictions.\n",
        "test_predictions = model.predict(test_dataset).flatten()\n",
        "\n",
        "a = plt.axes(aspect='equal')\n",
        "plt.scatter(test_labels, test_predictions)\n",
        "plt.xlabel('True values (expenses)')\n",
        "plt.ylabel('Predictions (expenses)')\n",
        "lims = [0, 50000]\n",
        "plt.xlim(lims)\n",
        "plt.ylim(lims)\n",
        "_ = plt.plot(lims,lims)\n"
      ],
      "execution_count": null,
      "outputs": [
        {
          "output_type": "stream",
          "name": "stdout",
          "text": [
            "9/9 - 0s - loss: 3272.3179 - mae: 3272.3179 - mse: 45283776.0000 - 183ms/epoch - 20ms/step\n",
            "Testing set Mean Abs Error: 3272.32 expenses\n",
            "You passed the challenge. Great job!\n"
          ]
        },
        {
          "output_type": "display_data",
          "data": {
            "image/png": "[encoded data removed]",
            "text/plain": [
              "<Figure size 432x288 with 1 Axes>"
            ]
          },
          "metadata": {
            "needs_background": "light"
          }
        }
      ]
    },
    {
      "cell_type": "code",
      "source": [
        ""
      ],
      "metadata": {
        "id": "rWf_aFL7O5-f"
      },
      "execution_count": null,
      "outputs": []
    }
  ]
}